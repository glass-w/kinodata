{
 "cells": [
  {
   "cell_type": "markdown",
   "metadata": {},
   "source": [
    "# Query ChEMBL for bioactivities involving protein kinases\n",
    "\n",
    "ChEMBL stores a good amount of bioactivities for protein-ligand complexes in the field of kinases. Before running this notebook, we have identified the set of human protein kinases we want to target (`/human-kinases`) and under what identifiers these proteins are stored in ChEMBL (`/kinases-in-chembl`).\n",
    "\n",
    "Now we can query ChEMBL for all bioactivities involving these targets but first we need to make sure we don't run into some common pitfalls (see section \"Curate the dataset\")."
   ]
  },
  {
   "cell_type": "code",
   "execution_count": 1,
   "metadata": {},
   "outputs": [],
   "source": [
    "import sqlite3 as sql\n",
    "import csv\n",
    "import os\n",
    "from pathlib import Path\n",
    "from collections import defaultdict\n",
    "\n",
    "import pandas as pd\n",
    "from tqdm import tnrange\n",
    "import numpy as np"
   ]
  },
  {
   "cell_type": "code",
   "execution_count": 2,
   "metadata": {},
   "outputs": [],
   "source": [
    "HERE = Path(_dh[-1])\n",
    "REPO = (HERE / \"..\").resolve()\n",
    "DATA = REPO / 'data'"
   ]
  },
  {
   "cell_type": "markdown",
   "metadata": {},
   "source": [
    "Get the [local export](https://chembl.gitbook.io/chembl-interface-documentation/downloads) for the ChEMBL version you want to query. You need the one named `chembl_<VERSION>_sqlite.tar.gz`. Extract the `*.db` file and point to its location using `CHEMBL_SQLITE_PATH` below:"
   ]
  },
  {
   "cell_type": "code",
   "execution_count": 3,
   "metadata": {},
   "outputs": [],
   "source": [
    "CHEMBL_VERSION = 28\n",
    "CHEMBL_SQLITE_PATH = f\"../../_chembl_fetcher/chembl_{CHEMBL_VERSION}/chembl_{CHEMBL_VERSION}_sqlite/chembl_{CHEMBL_VERSION}.db\""
   ]
  },
  {
   "cell_type": "markdown",
   "metadata": {},
   "source": [
    "# Map `chembl_targets` to `UniprotID`.\n",
    "\n",
    "This file is generated with the `kinase-in-chembl` notebooks. Update it if you think there might be more ChEMBL targets."
   ]
  },
  {
   "cell_type": "code",
   "execution_count": 4,
   "metadata": {},
   "outputs": [
    {
     "data": {
      "text/html": [
       "<div>\n",
       "<style scoped>\n",
       "    .dataframe tbody tr th:only-of-type {\n",
       "        vertical-align: middle;\n",
       "    }\n",
       "\n",
       "    .dataframe tbody tr th {\n",
       "        vertical-align: top;\n",
       "    }\n",
       "\n",
       "    .dataframe thead th {\n",
       "        text-align: right;\n",
       "    }\n",
       "</style>\n",
       "<table border=\"1\" class=\"dataframe\">\n",
       "  <thead>\n",
       "    <tr style=\"text-align: right;\">\n",
       "      <th></th>\n",
       "      <th>UniprotID</th>\n",
       "      <th>Name</th>\n",
       "      <th>chembl_targets</th>\n",
       "      <th>type</th>\n",
       "      <th>origin</th>\n",
       "    </tr>\n",
       "  </thead>\n",
       "  <tbody>\n",
       "    <tr>\n",
       "      <th>0</th>\n",
       "      <td>A4QPH2</td>\n",
       "      <td>PI4KAP2</td>\n",
       "      <td>CHEMBL4105789</td>\n",
       "      <td>SINGLE PROTEIN</td>\n",
       "      <td>klifs</td>\n",
       "    </tr>\n",
       "    <tr>\n",
       "      <th>1</th>\n",
       "      <td>O00141</td>\n",
       "      <td>SGK1</td>\n",
       "      <td>CHEMBL2343</td>\n",
       "      <td>SINGLE PROTEIN</td>\n",
       "      <td>kinhub|klifs|pkinfam|reviewed_uniprot|dunbrack...</td>\n",
       "    </tr>\n",
       "    <tr>\n",
       "      <th>2</th>\n",
       "      <td>O00238</td>\n",
       "      <td>BMPR1B|BMR1B</td>\n",
       "      <td>CHEMBL5476</td>\n",
       "      <td>SINGLE PROTEIN</td>\n",
       "      <td>kinhub|klifs|pkinfam|reviewed_uniprot|dunbrack...</td>\n",
       "    </tr>\n",
       "    <tr>\n",
       "      <th>3</th>\n",
       "      <td>O00311</td>\n",
       "      <td>CDC7</td>\n",
       "      <td>CHEMBL5443</td>\n",
       "      <td>SINGLE PROTEIN</td>\n",
       "      <td>kinhub|klifs|pkinfam|reviewed_uniprot|dunbrack...</td>\n",
       "    </tr>\n",
       "    <tr>\n",
       "      <th>4</th>\n",
       "      <td>O00329</td>\n",
       "      <td>PIK3CD</td>\n",
       "      <td>CHEMBL3130</td>\n",
       "      <td>SINGLE PROTEIN</td>\n",
       "      <td>klifs|pkinfam</td>\n",
       "    </tr>\n",
       "    <tr>\n",
       "      <th>...</th>\n",
       "      <td>...</td>\n",
       "      <td>...</td>\n",
       "      <td>...</td>\n",
       "      <td>...</td>\n",
       "      <td>...</td>\n",
       "    </tr>\n",
       "    <tr>\n",
       "      <th>486</th>\n",
       "      <td>Q9Y5S2</td>\n",
       "      <td>CDC42BPB|MRCKB</td>\n",
       "      <td>CHEMBL5052</td>\n",
       "      <td>SINGLE PROTEIN</td>\n",
       "      <td>kinhub|klifs|pkinfam|reviewed_uniprot|dunbrack...</td>\n",
       "    </tr>\n",
       "    <tr>\n",
       "      <th>487</th>\n",
       "      <td>Q9Y616</td>\n",
       "      <td>IRAK3</td>\n",
       "      <td>CHEMBL5081</td>\n",
       "      <td>SINGLE PROTEIN</td>\n",
       "      <td>kinhub|klifs|pkinfam|reviewed_uniprot|dunbrack...</td>\n",
       "    </tr>\n",
       "    <tr>\n",
       "      <th>488</th>\n",
       "      <td>Q9Y6E0</td>\n",
       "      <td>STK24</td>\n",
       "      <td>CHEMBL5082</td>\n",
       "      <td>SINGLE PROTEIN</td>\n",
       "      <td>kinhub|klifs|pkinfam|reviewed_uniprot|dunbrack...</td>\n",
       "    </tr>\n",
       "    <tr>\n",
       "      <th>489</th>\n",
       "      <td>Q9Y6M4</td>\n",
       "      <td>KC1G3|CSNK1G3</td>\n",
       "      <td>CHEMBL5084</td>\n",
       "      <td>SINGLE PROTEIN</td>\n",
       "      <td>kinhub|klifs|pkinfam|reviewed_uniprot|dunbrack...</td>\n",
       "    </tr>\n",
       "    <tr>\n",
       "      <th>490</th>\n",
       "      <td>Q9Y6R4</td>\n",
       "      <td>MAP3K4|M3K4</td>\n",
       "      <td>CHEMBL4853</td>\n",
       "      <td>SINGLE PROTEIN</td>\n",
       "      <td>kinhub|klifs|pkinfam|reviewed_uniprot|dunbrack...</td>\n",
       "    </tr>\n",
       "  </tbody>\n",
       "</table>\n",
       "<p>491 rows × 5 columns</p>\n",
       "</div>"
      ],
      "text/plain": [
       "    UniprotID            Name chembl_targets            type  \\\n",
       "0      A4QPH2         PI4KAP2  CHEMBL4105789  SINGLE PROTEIN   \n",
       "1      O00141            SGK1     CHEMBL2343  SINGLE PROTEIN   \n",
       "2      O00238    BMPR1B|BMR1B     CHEMBL5476  SINGLE PROTEIN   \n",
       "3      O00311            CDC7     CHEMBL5443  SINGLE PROTEIN   \n",
       "4      O00329          PIK3CD     CHEMBL3130  SINGLE PROTEIN   \n",
       "..        ...             ...            ...             ...   \n",
       "486    Q9Y5S2  CDC42BPB|MRCKB     CHEMBL5052  SINGLE PROTEIN   \n",
       "487    Q9Y616           IRAK3     CHEMBL5081  SINGLE PROTEIN   \n",
       "488    Q9Y6E0           STK24     CHEMBL5082  SINGLE PROTEIN   \n",
       "489    Q9Y6M4   KC1G3|CSNK1G3     CHEMBL5084  SINGLE PROTEIN   \n",
       "490    Q9Y6R4     MAP3K4|M3K4     CHEMBL4853  SINGLE PROTEIN   \n",
       "\n",
       "                                                origin  \n",
       "0                                                klifs  \n",
       "1    kinhub|klifs|pkinfam|reviewed_uniprot|dunbrack...  \n",
       "2    kinhub|klifs|pkinfam|reviewed_uniprot|dunbrack...  \n",
       "3    kinhub|klifs|pkinfam|reviewed_uniprot|dunbrack...  \n",
       "4                                        klifs|pkinfam  \n",
       "..                                                 ...  \n",
       "486  kinhub|klifs|pkinfam|reviewed_uniprot|dunbrack...  \n",
       "487  kinhub|klifs|pkinfam|reviewed_uniprot|dunbrack...  \n",
       "488  kinhub|klifs|pkinfam|reviewed_uniprot|dunbrack...  \n",
       "489  kinhub|klifs|pkinfam|reviewed_uniprot|dunbrack...  \n",
       "490  kinhub|klifs|pkinfam|reviewed_uniprot|dunbrack...  \n",
       "\n",
       "[491 rows x 5 columns]"
      ]
     },
     "execution_count": 4,
     "metadata": {},
     "output_type": "execute_result"
    }
   ],
   "source": [
    "kinases = pd.read_csv(DATA / f\"human_kinases_and_chembl_targets.chembl_{CHEMBL_VERSION}.csv\")\n",
    "kinases"
   ]
  },
  {
   "cell_type": "markdown",
   "metadata": {},
   "source": [
    "We are only interested in `SINGLE PROTEIN` targets for now."
   ]
  },
  {
   "cell_type": "code",
   "execution_count": 5,
   "metadata": {},
   "outputs": [
    {
     "data": {
      "text/html": [
       "<div>\n",
       "<style scoped>\n",
       "    .dataframe tbody tr th:only-of-type {\n",
       "        vertical-align: middle;\n",
       "    }\n",
       "\n",
       "    .dataframe tbody tr th {\n",
       "        vertical-align: top;\n",
       "    }\n",
       "\n",
       "    .dataframe thead th {\n",
       "        text-align: right;\n",
       "    }\n",
       "</style>\n",
       "<table border=\"1\" class=\"dataframe\">\n",
       "  <thead>\n",
       "    <tr style=\"text-align: right;\">\n",
       "      <th></th>\n",
       "      <th>UniprotID</th>\n",
       "      <th>Name</th>\n",
       "      <th>chembl_targets</th>\n",
       "      <th>origin</th>\n",
       "    </tr>\n",
       "  </thead>\n",
       "  <tbody>\n",
       "    <tr>\n",
       "      <th>0</th>\n",
       "      <td>A4QPH2</td>\n",
       "      <td>PI4KAP2</td>\n",
       "      <td>CHEMBL4105789</td>\n",
       "      <td>klifs</td>\n",
       "    </tr>\n",
       "    <tr>\n",
       "      <th>1</th>\n",
       "      <td>O00141</td>\n",
       "      <td>SGK1</td>\n",
       "      <td>CHEMBL2343</td>\n",
       "      <td>kinhub|klifs|pkinfam|reviewed_uniprot|dunbrack...</td>\n",
       "    </tr>\n",
       "    <tr>\n",
       "      <th>2</th>\n",
       "      <td>O00238</td>\n",
       "      <td>BMPR1B|BMR1B</td>\n",
       "      <td>CHEMBL5476</td>\n",
       "      <td>kinhub|klifs|pkinfam|reviewed_uniprot|dunbrack...</td>\n",
       "    </tr>\n",
       "    <tr>\n",
       "      <th>3</th>\n",
       "      <td>O00311</td>\n",
       "      <td>CDC7</td>\n",
       "      <td>CHEMBL5443</td>\n",
       "      <td>kinhub|klifs|pkinfam|reviewed_uniprot|dunbrack...</td>\n",
       "    </tr>\n",
       "    <tr>\n",
       "      <th>4</th>\n",
       "      <td>O00329</td>\n",
       "      <td>PIK3CD</td>\n",
       "      <td>CHEMBL3130</td>\n",
       "      <td>klifs|pkinfam</td>\n",
       "    </tr>\n",
       "    <tr>\n",
       "      <th>...</th>\n",
       "      <td>...</td>\n",
       "      <td>...</td>\n",
       "      <td>...</td>\n",
       "      <td>...</td>\n",
       "    </tr>\n",
       "    <tr>\n",
       "      <th>486</th>\n",
       "      <td>Q9Y5S2</td>\n",
       "      <td>CDC42BPB|MRCKB</td>\n",
       "      <td>CHEMBL5052</td>\n",
       "      <td>kinhub|klifs|pkinfam|reviewed_uniprot|dunbrack...</td>\n",
       "    </tr>\n",
       "    <tr>\n",
       "      <th>487</th>\n",
       "      <td>Q9Y616</td>\n",
       "      <td>IRAK3</td>\n",
       "      <td>CHEMBL5081</td>\n",
       "      <td>kinhub|klifs|pkinfam|reviewed_uniprot|dunbrack...</td>\n",
       "    </tr>\n",
       "    <tr>\n",
       "      <th>488</th>\n",
       "      <td>Q9Y6E0</td>\n",
       "      <td>STK24</td>\n",
       "      <td>CHEMBL5082</td>\n",
       "      <td>kinhub|klifs|pkinfam|reviewed_uniprot|dunbrack...</td>\n",
       "    </tr>\n",
       "    <tr>\n",
       "      <th>489</th>\n",
       "      <td>Q9Y6M4</td>\n",
       "      <td>KC1G3|CSNK1G3</td>\n",
       "      <td>CHEMBL5084</td>\n",
       "      <td>kinhub|klifs|pkinfam|reviewed_uniprot|dunbrack...</td>\n",
       "    </tr>\n",
       "    <tr>\n",
       "      <th>490</th>\n",
       "      <td>Q9Y6R4</td>\n",
       "      <td>MAP3K4|M3K4</td>\n",
       "      <td>CHEMBL4853</td>\n",
       "      <td>kinhub|klifs|pkinfam|reviewed_uniprot|dunbrack...</td>\n",
       "    </tr>\n",
       "  </tbody>\n",
       "</table>\n",
       "<p>491 rows × 4 columns</p>\n",
       "</div>"
      ],
      "text/plain": [
       "    UniprotID            Name chembl_targets  \\\n",
       "0      A4QPH2         PI4KAP2  CHEMBL4105789   \n",
       "1      O00141            SGK1     CHEMBL2343   \n",
       "2      O00238    BMPR1B|BMR1B     CHEMBL5476   \n",
       "3      O00311            CDC7     CHEMBL5443   \n",
       "4      O00329          PIK3CD     CHEMBL3130   \n",
       "..        ...             ...            ...   \n",
       "486    Q9Y5S2  CDC42BPB|MRCKB     CHEMBL5052   \n",
       "487    Q9Y616           IRAK3     CHEMBL5081   \n",
       "488    Q9Y6E0           STK24     CHEMBL5082   \n",
       "489    Q9Y6M4   KC1G3|CSNK1G3     CHEMBL5084   \n",
       "490    Q9Y6R4     MAP3K4|M3K4     CHEMBL4853   \n",
       "\n",
       "                                                origin  \n",
       "0                                                klifs  \n",
       "1    kinhub|klifs|pkinfam|reviewed_uniprot|dunbrack...  \n",
       "2    kinhub|klifs|pkinfam|reviewed_uniprot|dunbrack...  \n",
       "3    kinhub|klifs|pkinfam|reviewed_uniprot|dunbrack...  \n",
       "4                                        klifs|pkinfam  \n",
       "..                                                 ...  \n",
       "486  kinhub|klifs|pkinfam|reviewed_uniprot|dunbrack...  \n",
       "487  kinhub|klifs|pkinfam|reviewed_uniprot|dunbrack...  \n",
       "488  kinhub|klifs|pkinfam|reviewed_uniprot|dunbrack...  \n",
       "489  kinhub|klifs|pkinfam|reviewed_uniprot|dunbrack...  \n",
       "490  kinhub|klifs|pkinfam|reviewed_uniprot|dunbrack...  \n",
       "\n",
       "[491 rows x 4 columns]"
      ]
     },
     "execution_count": 5,
     "metadata": {},
     "output_type": "execute_result"
    }
   ],
   "source": [
    "df = kinases[kinases.type == \"SINGLE PROTEIN\"].drop(\"type\", axis=1)\n",
    "df"
   ]
  },
  {
   "cell_type": "markdown",
   "metadata": {},
   "source": [
    "We will need this dictionary to map between chembl target and uniprot later, when we write the query results to disk."
   ]
  },
  {
   "cell_type": "code",
   "execution_count": 6,
   "metadata": {},
   "outputs": [],
   "source": [
    "chembl_to_uniprot = defaultdict(list)\n",
    "for row in df.to_dict(\"records\"):\n",
    "    chembl_to_uniprot[row[\"chembl_targets\"]].append(row[\"UniprotID\"])"
   ]
  },
  {
   "cell_type": "markdown",
   "metadata": {},
   "source": [
    "# Query local ChEMBL DB for speed"
   ]
  },
  {
   "cell_type": "code",
   "execution_count": 7,
   "metadata": {},
   "outputs": [],
   "source": [
    "conn = sql.connect(CHEMBL_SQLITE_PATH, isolation_level=None)\n",
    "db = conn.cursor()"
   ]
  },
  {
   "cell_type": "markdown",
   "metadata": {},
   "source": [
    "## Types of assays\n",
    "\n",
    "Check which kind of assays can be found on human kinases."
   ]
  },
  {
   "cell_type": "code",
   "execution_count": 8,
   "metadata": {},
   "outputs": [],
   "source": [
    "CHEMBL_TARGETS = set(df.chembl_targets.tolist())\n",
    "q = f\"\"\"\n",
    "SELECT standard_type, COUNT(standard_type) \n",
    "FROM activities\n",
    "    LEFT JOIN assays ON assays.assay_id=activities.assay_id\n",
    "    LEFT JOIN target_dictionary ON target_dictionary.tid=assays.tid\n",
    "WHERE\n",
    "    target_dictionary.chembl_id IN ({', '.join([f'\"{x}\"' for x in CHEMBL_TARGETS])})\n",
    "GROUP BY standard_type \n",
    "ORDER BY 2 DESC\n",
    "\"\"\""
   ]
  },
  {
   "cell_type": "code",
   "execution_count": 9,
   "metadata": {},
   "outputs": [],
   "source": [
    "assay_types = pd.read_sql(q, conn)\n",
    "assay_types.columns = [\"Value\", \"Count\"]"
   ]
  },
  {
   "cell_type": "code",
   "execution_count": 10,
   "metadata": {},
   "outputs": [
    {
     "data": {
      "text/html": [
       "<div>\n",
       "<style scoped>\n",
       "    .dataframe tbody tr th:only-of-type {\n",
       "        vertical-align: middle;\n",
       "    }\n",
       "\n",
       "    .dataframe tbody tr th {\n",
       "        vertical-align: top;\n",
       "    }\n",
       "\n",
       "    .dataframe thead th {\n",
       "        text-align: right;\n",
       "    }\n",
       "</style>\n",
       "<table border=\"1\" class=\"dataframe\">\n",
       "  <thead>\n",
       "    <tr style=\"text-align: right;\">\n",
       "      <th></th>\n",
       "      <th>Value</th>\n",
       "      <th>Count</th>\n",
       "    </tr>\n",
       "  </thead>\n",
       "  <tbody>\n",
       "    <tr>\n",
       "      <th>0</th>\n",
       "      <td>IC50</td>\n",
       "      <td>266091</td>\n",
       "    </tr>\n",
       "    <tr>\n",
       "      <th>1</th>\n",
       "      <td>Inhibition</td>\n",
       "      <td>250925</td>\n",
       "    </tr>\n",
       "    <tr>\n",
       "      <th>2</th>\n",
       "      <td>Ki</td>\n",
       "      <td>138291</td>\n",
       "    </tr>\n",
       "    <tr>\n",
       "      <th>3</th>\n",
       "      <td>Residual Activity</td>\n",
       "      <td>70152</td>\n",
       "    </tr>\n",
       "    <tr>\n",
       "      <th>4</th>\n",
       "      <td>Kd</td>\n",
       "      <td>54728</td>\n",
       "    </tr>\n",
       "    <tr>\n",
       "      <th>5</th>\n",
       "      <td>Kd apparent</td>\n",
       "      <td>52133</td>\n",
       "    </tr>\n",
       "    <tr>\n",
       "      <th>6</th>\n",
       "      <td>Potency</td>\n",
       "      <td>50182</td>\n",
       "    </tr>\n",
       "    <tr>\n",
       "      <th>7</th>\n",
       "      <td>% Control</td>\n",
       "      <td>43985</td>\n",
       "    </tr>\n",
       "    <tr>\n",
       "      <th>8</th>\n",
       "      <td>Activity</td>\n",
       "      <td>42236</td>\n",
       "    </tr>\n",
       "    <tr>\n",
       "      <th>9</th>\n",
       "      <td>Thermal melting change</td>\n",
       "      <td>9360</td>\n",
       "    </tr>\n",
       "  </tbody>\n",
       "</table>\n",
       "</div>"
      ],
      "text/plain": [
       "                    Value   Count\n",
       "0                    IC50  266091\n",
       "1              Inhibition  250925\n",
       "2                      Ki  138291\n",
       "3       Residual Activity   70152\n",
       "4                      Kd   54728\n",
       "5             Kd apparent   52133\n",
       "6                 Potency   50182\n",
       "7               % Control   43985\n",
       "8                Activity   42236\n",
       "9  Thermal melting change    9360"
      ]
     },
     "execution_count": 10,
     "metadata": {},
     "output_type": "execute_result"
    }
   ],
   "source": [
    "assay_types.head(10)"
   ]
  },
  {
   "cell_type": "markdown",
   "metadata": {},
   "source": [
    "There's a lot of information we are not using! `Inhibition` is as populated as `IC50`, but we don't know what kind of information this category contains."
   ]
  },
  {
   "cell_type": "markdown",
   "metadata": {},
   "source": [
    "## Query bioactivities \n",
    "\n",
    "Get all entries in the SQL db that:\n",
    "\n",
    "- Correspond to IC50, Ki, Kd measurements. Check `activities.standard_type` fields.\n",
    "- assay_type = B (Binding)\n",
    "- Relation = '='\n",
    "- Target is part of the human kinome (as provided by `/data/human_kinases_and_chembl_targets.chembl_27.csv`)\n",
    "- Confidence score is greather than zero (in practice, only 43 entries have score=0; the rest are either 8 or 9)\n",
    "\n",
    "Note that querying for `docs.year` discards ~1000 entries because that field might not be available in those rows and the SELECT query gets dropped."
   ]
  },
  {
   "cell_type": "code",
   "execution_count": 11,
   "metadata": {},
   "outputs": [],
   "source": [
    "CHEMBL_TARGETS = set(df.chembl_targets.tolist())\n",
    "select_these = [\n",
    "    \"activities.activity_id\",\n",
    "    \"assays.chembl_id\",\n",
    "    \"target_dictionary.chembl_id\", \n",
    "    \"molecule_dictionary.chembl_id\", \n",
    "    \"molecule_dictionary.max_phase\", \n",
    "    \"activities.standard_type\", \n",
    "    \"activities.standard_value\", \n",
    "    \"activities.standard_units\", \n",
    "    \"compound_structures.canonical_smiles\", \n",
    "    \"compound_structures.standard_inchi\", \n",
    "    \"component_sequences.sequence\", \n",
    "    \"assays.confidence_score\", \n",
    "    \"docs.chembl_id\", \n",
    "    \"docs.year\", \n",
    "    \"docs.authors\", \n",
    "]\n",
    "q = f\"\"\"\n",
    "SELECT\n",
    "    {', '.join(select_these)}\n",
    "FROM \n",
    "    activities\n",
    "    LEFT JOIN assays ON assays.assay_id=activities.assay_id\n",
    "    LEFT JOIN target_dictionary ON target_dictionary.tid=assays.tid\n",
    "    LEFT JOIN compound_structures ON activities.molregno=compound_structures.molregno\n",
    "    LEFT JOIN molecule_dictionary ON activities.molregno=molecule_dictionary.molregno\n",
    "    LEFT JOIN target_components ON target_dictionary.tid=target_components.tid\n",
    "    LEFT JOIN component_sequences ON target_components.component_id=component_sequences.component_id\n",
    "    LEFT JOIN docs ON docs.doc_id=activities.doc_id\n",
    "WHERE\n",
    "    target_dictionary.chembl_id IN ({', '.join([f'\"{x}\"' for x in CHEMBL_TARGETS])})\n",
    "AND\n",
    "    activities.standard_relation=\"=\"\n",
    "AND\n",
    "    assays.assay_type=\"B\"\n",
    "AND\n",
    "    activities.standard_type in (\"IC50\", \"Ki\", \"Kd\")\n",
    "AND\n",
    "    assays.confidence_score > 0\n",
    "\"\"\""
   ]
  },
  {
   "cell_type": "code",
   "execution_count": 12,
   "metadata": {},
   "outputs": [],
   "source": [
    "activities = pd.read_sql_query(q, conn)\n",
    "activities.columns = select_these"
   ]
  },
  {
   "cell_type": "markdown",
   "metadata": {},
   "source": [
    "Before we continue, we want all the activities in logarithmic format (`pMeasurement`). All the values are in nM, so we can do:\n",
    "\n",
    "```python\n",
    "pMeasurement = 9 - (log(measurement) / log(10))\n",
    "```"
   ]
  },
  {
   "cell_type": "code",
   "execution_count": 13,
   "metadata": {},
   "outputs": [
    {
     "data": {
      "text/html": [
       "<div>\n",
       "<style scoped>\n",
       "    .dataframe tbody tr th:only-of-type {\n",
       "        vertical-align: middle;\n",
       "    }\n",
       "\n",
       "    .dataframe tbody tr th {\n",
       "        vertical-align: top;\n",
       "    }\n",
       "\n",
       "    .dataframe thead th {\n",
       "        text-align: right;\n",
       "    }\n",
       "</style>\n",
       "<table border=\"1\" class=\"dataframe\">\n",
       "  <thead>\n",
       "    <tr style=\"text-align: right;\">\n",
       "      <th></th>\n",
       "      <th>activities.activity_id</th>\n",
       "      <th>assays.chembl_id</th>\n",
       "      <th>target_dictionary.chembl_id</th>\n",
       "      <th>molecule_dictionary.chembl_id</th>\n",
       "      <th>molecule_dictionary.max_phase</th>\n",
       "      <th>activities.standard_type</th>\n",
       "      <th>activities.standard_value</th>\n",
       "      <th>activities.standard_units</th>\n",
       "      <th>compound_structures.canonical_smiles</th>\n",
       "      <th>compound_structures.standard_inchi</th>\n",
       "      <th>component_sequences.sequence</th>\n",
       "      <th>assays.confidence_score</th>\n",
       "      <th>docs.chembl_id</th>\n",
       "      <th>docs.year</th>\n",
       "      <th>docs.authors</th>\n",
       "    </tr>\n",
       "  </thead>\n",
       "  <tbody>\n",
       "    <tr>\n",
       "      <th>0</th>\n",
       "      <td>32260</td>\n",
       "      <td>CHEMBL674637</td>\n",
       "      <td>CHEMBL203</td>\n",
       "      <td>CHEMBL68920</td>\n",
       "      <td>0</td>\n",
       "      <td>pIC50</td>\n",
       "      <td>7.387216</td>\n",
       "      <td>nM</td>\n",
       "      <td>Cc1cc(C)c(/C=C2\\C(=O)Nc3ncnc(Nc4ccc(F)c(Cl)c4)...</td>\n",
       "      <td>InChI=1S/C19H15ClFN5O/c1-9-5-10(2)24-15(9)7-12...</td>\n",
       "      <td>MRPSGTAGAALLALLAALCPASRALEEKKVCQGTSNKLTQLGTFED...</td>\n",
       "      <td>8</td>\n",
       "      <td>CHEMBL1134862</td>\n",
       "      <td>2002.0</td>\n",
       "      <td>Sun L, Cui J, Liang C, Zhou Y, Nematalla A, Wa...</td>\n",
       "    </tr>\n",
       "    <tr>\n",
       "      <th>1</th>\n",
       "      <td>32262</td>\n",
       "      <td>CHEMBL816964</td>\n",
       "      <td>CHEMBL279</td>\n",
       "      <td>CHEMBL68920</td>\n",
       "      <td>0</td>\n",
       "      <td>pIC50</td>\n",
       "      <td>4.782516</td>\n",
       "      <td>nM</td>\n",
       "      <td>Cc1cc(C)c(/C=C2\\C(=O)Nc3ncnc(Nc4ccc(F)c(Cl)c4)...</td>\n",
       "      <td>InChI=1S/C19H15ClFN5O/c1-9-5-10(2)24-15(9)7-12...</td>\n",
       "      <td>MQSKVLLAVALWLCVETRAASVGLPSVSLDLPRLSIQKDILTIKAN...</td>\n",
       "      <td>8</td>\n",
       "      <td>CHEMBL1134862</td>\n",
       "      <td>2002.0</td>\n",
       "      <td>Sun L, Cui J, Liang C, Zhou Y, Nematalla A, Wa...</td>\n",
       "    </tr>\n",
       "    <tr>\n",
       "      <th>2</th>\n",
       "      <td>32267</td>\n",
       "      <td>CHEMBL674637</td>\n",
       "      <td>CHEMBL203</td>\n",
       "      <td>CHEMBL69960</td>\n",
       "      <td>0</td>\n",
       "      <td>pIC50</td>\n",
       "      <td>6.769551</td>\n",
       "      <td>nM</td>\n",
       "      <td>Cc1cc(C(=O)N2CCOCC2)[nH]c1/C=C1\\C(=O)Nc2ncnc(N...</td>\n",
       "      <td>InChI=1S/C23H20ClFN6O3/c1-12-8-18(23(33)31-4-6...</td>\n",
       "      <td>MRPSGTAGAALLALLAALCPASRALEEKKVCQGTSNKLTQLGTFED...</td>\n",
       "      <td>8</td>\n",
       "      <td>CHEMBL1134862</td>\n",
       "      <td>2002.0</td>\n",
       "      <td>Sun L, Cui J, Liang C, Zhou Y, Nematalla A, Wa...</td>\n",
       "    </tr>\n",
       "    <tr>\n",
       "      <th>3</th>\n",
       "      <td>32330</td>\n",
       "      <td>CHEMBL842023</td>\n",
       "      <td>CHEMBL258</td>\n",
       "      <td>CHEMBL69638</td>\n",
       "      <td>0</td>\n",
       "      <td>pIC50</td>\n",
       "      <td>6.853872</td>\n",
       "      <td>nM</td>\n",
       "      <td>Nc1ncnc2c1c(-c1cccc(Oc3ccccc3)c1)cn2C1CCCC1</td>\n",
       "      <td>InChI=1S/C23H22N4O/c24-22-21-20(14-27(17-8-4-5...</td>\n",
       "      <td>MGCGCSSHPEDDWMENIDVCENCHYPIVPLDGKGTLLIRNGSEVRD...</td>\n",
       "      <td>9</td>\n",
       "      <td>CHEMBL1132739</td>\n",
       "      <td>2000.0</td>\n",
       "      <td>Arnold LD, Calderwood DJ, Dixon RW, Johnston D...</td>\n",
       "    </tr>\n",
       "    <tr>\n",
       "      <th>4</th>\n",
       "      <td>32331</td>\n",
       "      <td>CHEMBL842019</td>\n",
       "      <td>CHEMBL258</td>\n",
       "      <td>CHEMBL69638</td>\n",
       "      <td>0</td>\n",
       "      <td>pIC50</td>\n",
       "      <td>5.928118</td>\n",
       "      <td>nM</td>\n",
       "      <td>Nc1ncnc2c1c(-c1cccc(Oc3ccccc3)c1)cn2C1CCCC1</td>\n",
       "      <td>InChI=1S/C23H22N4O/c24-22-21-20(14-27(17-8-4-5...</td>\n",
       "      <td>MGCGCSSHPEDDWMENIDVCENCHYPIVPLDGKGTLLIRNGSEVRD...</td>\n",
       "      <td>9</td>\n",
       "      <td>CHEMBL1132739</td>\n",
       "      <td>2000.0</td>\n",
       "      <td>Arnold LD, Calderwood DJ, Dixon RW, Johnston D...</td>\n",
       "    </tr>\n",
       "    <tr>\n",
       "      <th>...</th>\n",
       "      <td>...</td>\n",
       "      <td>...</td>\n",
       "      <td>...</td>\n",
       "      <td>...</td>\n",
       "      <td>...</td>\n",
       "      <td>...</td>\n",
       "      <td>...</td>\n",
       "      <td>...</td>\n",
       "      <td>...</td>\n",
       "      <td>...</td>\n",
       "      <td>...</td>\n",
       "      <td>...</td>\n",
       "      <td>...</td>\n",
       "      <td>...</td>\n",
       "      <td>...</td>\n",
       "    </tr>\n",
       "    <tr>\n",
       "      <th>237825</th>\n",
       "      <td>20129961</td>\n",
       "      <td>CHEMBL4510930</td>\n",
       "      <td>CHEMBL260</td>\n",
       "      <td>CHEMBL3286797</td>\n",
       "      <td>1</td>\n",
       "      <td>pKi</td>\n",
       "      <td>inf</td>\n",
       "      <td>nM</td>\n",
       "      <td>COc1ccc2cc(OCC3(C(=O)O)CN(C(=O)c4ccc(F)cc4)C3)...</td>\n",
       "      <td>InChI=1S/C23H20FNO5/c1-29-19-8-4-17-11-20(9-5-...</td>\n",
       "      <td>MSQERPTFYRQELNKTIWEVPERYQNLSPVGSGAYGSVCAAFDTKT...</td>\n",
       "      <td>9</td>\n",
       "      <td>CHEMBL4507298</td>\n",
       "      <td>NaN</td>\n",
       "      <td>SGC Frankfurt</td>\n",
       "    </tr>\n",
       "    <tr>\n",
       "      <th>237826</th>\n",
       "      <td>20130004</td>\n",
       "      <td>CHEMBL4510951</td>\n",
       "      <td>CHEMBL2803</td>\n",
       "      <td>CHEMBL3286797</td>\n",
       "      <td>1</td>\n",
       "      <td>pKi</td>\n",
       "      <td>inf</td>\n",
       "      <td>nM</td>\n",
       "      <td>COc1ccc2cc(OCC3(C(=O)O)CN(C(=O)c4ccc(F)cc4)C3)...</td>\n",
       "      <td>InChI=1S/C23H20FNO5/c1-29-19-8-4-17-11-20(9-5-...</td>\n",
       "      <td>MPDPAAHLPFFYGSISRAEAEEHLKLAGMADGLFLLRQCLRSLGGY...</td>\n",
       "      <td>9</td>\n",
       "      <td>CHEMBL4507298</td>\n",
       "      <td>NaN</td>\n",
       "      <td>SGC Frankfurt</td>\n",
       "    </tr>\n",
       "    <tr>\n",
       "      <th>237827</th>\n",
       "      <td>20143310</td>\n",
       "      <td>CHEMBL4512124</td>\n",
       "      <td>CHEMBL5464</td>\n",
       "      <td>CHEMBL4549667</td>\n",
       "      <td>0</td>\n",
       "      <td>pKi</td>\n",
       "      <td>9.366532</td>\n",
       "      <td>nM</td>\n",
       "      <td>CN1C(=O)[C@@H](N2CCc3c(nn(Cc4ccccc4)c3Br)C2=O)...</td>\n",
       "      <td>InChI=1S/C23H21BrN4O3/c1-26-17-9-5-6-10-19(17)...</td>\n",
       "      <td>MQPDMSLNVIKMKSSDFLESAELDSGGFGKVSLCFHRTQGLMIMKT...</td>\n",
       "      <td>9</td>\n",
       "      <td>CHEMBL4507326</td>\n",
       "      <td>NaN</td>\n",
       "      <td>SGC Frankfurt</td>\n",
       "    </tr>\n",
       "    <tr>\n",
       "      <th>237828</th>\n",
       "      <td>20143672</td>\n",
       "      <td>CHEMBL4512124</td>\n",
       "      <td>CHEMBL5464</td>\n",
       "      <td>CHEMBL4088216</td>\n",
       "      <td>0</td>\n",
       "      <td>pKi</td>\n",
       "      <td>8.408935</td>\n",
       "      <td>nM</td>\n",
       "      <td>CN1C(=O)[C@@H](N2CCc3cn(Cc4ccccc4)nc3C2=O)COc2...</td>\n",
       "      <td>InChI=1S/C23H22N4O3/c1-25-18-9-5-6-10-20(18)30...</td>\n",
       "      <td>MQPDMSLNVIKMKSSDFLESAELDSGGFGKVSLCFHRTQGLMIMKT...</td>\n",
       "      <td>9</td>\n",
       "      <td>CHEMBL4507327</td>\n",
       "      <td>NaN</td>\n",
       "      <td>SGC Frankfurt</td>\n",
       "    </tr>\n",
       "    <tr>\n",
       "      <th>237829</th>\n",
       "      <td>20144034</td>\n",
       "      <td>CHEMBL4512124</td>\n",
       "      <td>CHEMBL5464</td>\n",
       "      <td>CHEMBL4097778</td>\n",
       "      <td>0</td>\n",
       "      <td>pKi</td>\n",
       "      <td>5.161151</td>\n",
       "      <td>nM</td>\n",
       "      <td>CN1C(=O)[C@@H](N2CCc3cn(CC4CCS(=O)(=O)CC4)nc3C...</td>\n",
       "      <td>InChI=1S/C22H26N4O5S/c1-24-17-4-2-3-5-19(17)31...</td>\n",
       "      <td>MQPDMSLNVIKMKSSDFLESAELDSGGFGKVSLCFHRTQGLMIMKT...</td>\n",
       "      <td>9</td>\n",
       "      <td>CHEMBL4507326</td>\n",
       "      <td>NaN</td>\n",
       "      <td>SGC Frankfurt</td>\n",
       "    </tr>\n",
       "  </tbody>\n",
       "</table>\n",
       "<p>237830 rows × 15 columns</p>\n",
       "</div>"
      ],
      "text/plain": [
       "        activities.activity_id assays.chembl_id target_dictionary.chembl_id  \\\n",
       "0                        32260     CHEMBL674637                   CHEMBL203   \n",
       "1                        32262     CHEMBL816964                   CHEMBL279   \n",
       "2                        32267     CHEMBL674637                   CHEMBL203   \n",
       "3                        32330     CHEMBL842023                   CHEMBL258   \n",
       "4                        32331     CHEMBL842019                   CHEMBL258   \n",
       "...                        ...              ...                         ...   \n",
       "237825                20129961    CHEMBL4510930                   CHEMBL260   \n",
       "237826                20130004    CHEMBL4510951                  CHEMBL2803   \n",
       "237827                20143310    CHEMBL4512124                  CHEMBL5464   \n",
       "237828                20143672    CHEMBL4512124                  CHEMBL5464   \n",
       "237829                20144034    CHEMBL4512124                  CHEMBL5464   \n",
       "\n",
       "       molecule_dictionary.chembl_id  molecule_dictionary.max_phase  \\\n",
       "0                        CHEMBL68920                              0   \n",
       "1                        CHEMBL68920                              0   \n",
       "2                        CHEMBL69960                              0   \n",
       "3                        CHEMBL69638                              0   \n",
       "4                        CHEMBL69638                              0   \n",
       "...                              ...                            ...   \n",
       "237825                 CHEMBL3286797                              1   \n",
       "237826                 CHEMBL3286797                              1   \n",
       "237827                 CHEMBL4549667                              0   \n",
       "237828                 CHEMBL4088216                              0   \n",
       "237829                 CHEMBL4097778                              0   \n",
       "\n",
       "       activities.standard_type  activities.standard_value  \\\n",
       "0                         pIC50                   7.387216   \n",
       "1                         pIC50                   4.782516   \n",
       "2                         pIC50                   6.769551   \n",
       "3                         pIC50                   6.853872   \n",
       "4                         pIC50                   5.928118   \n",
       "...                         ...                        ...   \n",
       "237825                      pKi                        inf   \n",
       "237826                      pKi                        inf   \n",
       "237827                      pKi                   9.366532   \n",
       "237828                      pKi                   8.408935   \n",
       "237829                      pKi                   5.161151   \n",
       "\n",
       "       activities.standard_units  \\\n",
       "0                             nM   \n",
       "1                             nM   \n",
       "2                             nM   \n",
       "3                             nM   \n",
       "4                             nM   \n",
       "...                          ...   \n",
       "237825                        nM   \n",
       "237826                        nM   \n",
       "237827                        nM   \n",
       "237828                        nM   \n",
       "237829                        nM   \n",
       "\n",
       "                     compound_structures.canonical_smiles  \\\n",
       "0       Cc1cc(C)c(/C=C2\\C(=O)Nc3ncnc(Nc4ccc(F)c(Cl)c4)...   \n",
       "1       Cc1cc(C)c(/C=C2\\C(=O)Nc3ncnc(Nc4ccc(F)c(Cl)c4)...   \n",
       "2       Cc1cc(C(=O)N2CCOCC2)[nH]c1/C=C1\\C(=O)Nc2ncnc(N...   \n",
       "3             Nc1ncnc2c1c(-c1cccc(Oc3ccccc3)c1)cn2C1CCCC1   \n",
       "4             Nc1ncnc2c1c(-c1cccc(Oc3ccccc3)c1)cn2C1CCCC1   \n",
       "...                                                   ...   \n",
       "237825  COc1ccc2cc(OCC3(C(=O)O)CN(C(=O)c4ccc(F)cc4)C3)...   \n",
       "237826  COc1ccc2cc(OCC3(C(=O)O)CN(C(=O)c4ccc(F)cc4)C3)...   \n",
       "237827  CN1C(=O)[C@@H](N2CCc3c(nn(Cc4ccccc4)c3Br)C2=O)...   \n",
       "237828  CN1C(=O)[C@@H](N2CCc3cn(Cc4ccccc4)nc3C2=O)COc2...   \n",
       "237829  CN1C(=O)[C@@H](N2CCc3cn(CC4CCS(=O)(=O)CC4)nc3C...   \n",
       "\n",
       "                       compound_structures.standard_inchi  \\\n",
       "0       InChI=1S/C19H15ClFN5O/c1-9-5-10(2)24-15(9)7-12...   \n",
       "1       InChI=1S/C19H15ClFN5O/c1-9-5-10(2)24-15(9)7-12...   \n",
       "2       InChI=1S/C23H20ClFN6O3/c1-12-8-18(23(33)31-4-6...   \n",
       "3       InChI=1S/C23H22N4O/c24-22-21-20(14-27(17-8-4-5...   \n",
       "4       InChI=1S/C23H22N4O/c24-22-21-20(14-27(17-8-4-5...   \n",
       "...                                                   ...   \n",
       "237825  InChI=1S/C23H20FNO5/c1-29-19-8-4-17-11-20(9-5-...   \n",
       "237826  InChI=1S/C23H20FNO5/c1-29-19-8-4-17-11-20(9-5-...   \n",
       "237827  InChI=1S/C23H21BrN4O3/c1-26-17-9-5-6-10-19(17)...   \n",
       "237828  InChI=1S/C23H22N4O3/c1-25-18-9-5-6-10-20(18)30...   \n",
       "237829  InChI=1S/C22H26N4O5S/c1-24-17-4-2-3-5-19(17)31...   \n",
       "\n",
       "                             component_sequences.sequence  \\\n",
       "0       MRPSGTAGAALLALLAALCPASRALEEKKVCQGTSNKLTQLGTFED...   \n",
       "1       MQSKVLLAVALWLCVETRAASVGLPSVSLDLPRLSIQKDILTIKAN...   \n",
       "2       MRPSGTAGAALLALLAALCPASRALEEKKVCQGTSNKLTQLGTFED...   \n",
       "3       MGCGCSSHPEDDWMENIDVCENCHYPIVPLDGKGTLLIRNGSEVRD...   \n",
       "4       MGCGCSSHPEDDWMENIDVCENCHYPIVPLDGKGTLLIRNGSEVRD...   \n",
       "...                                                   ...   \n",
       "237825  MSQERPTFYRQELNKTIWEVPERYQNLSPVGSGAYGSVCAAFDTKT...   \n",
       "237826  MPDPAAHLPFFYGSISRAEAEEHLKLAGMADGLFLLRQCLRSLGGY...   \n",
       "237827  MQPDMSLNVIKMKSSDFLESAELDSGGFGKVSLCFHRTQGLMIMKT...   \n",
       "237828  MQPDMSLNVIKMKSSDFLESAELDSGGFGKVSLCFHRTQGLMIMKT...   \n",
       "237829  MQPDMSLNVIKMKSSDFLESAELDSGGFGKVSLCFHRTQGLMIMKT...   \n",
       "\n",
       "        assays.confidence_score docs.chembl_id  docs.year  \\\n",
       "0                             8  CHEMBL1134862     2002.0   \n",
       "1                             8  CHEMBL1134862     2002.0   \n",
       "2                             8  CHEMBL1134862     2002.0   \n",
       "3                             9  CHEMBL1132739     2000.0   \n",
       "4                             9  CHEMBL1132739     2000.0   \n",
       "...                         ...            ...        ...   \n",
       "237825                        9  CHEMBL4507298        NaN   \n",
       "237826                        9  CHEMBL4507298        NaN   \n",
       "237827                        9  CHEMBL4507326        NaN   \n",
       "237828                        9  CHEMBL4507327        NaN   \n",
       "237829                        9  CHEMBL4507326        NaN   \n",
       "\n",
       "                                             docs.authors  \n",
       "0       Sun L, Cui J, Liang C, Zhou Y, Nematalla A, Wa...  \n",
       "1       Sun L, Cui J, Liang C, Zhou Y, Nematalla A, Wa...  \n",
       "2       Sun L, Cui J, Liang C, Zhou Y, Nematalla A, Wa...  \n",
       "3       Arnold LD, Calderwood DJ, Dixon RW, Johnston D...  \n",
       "4       Arnold LD, Calderwood DJ, Dixon RW, Johnston D...  \n",
       "...                                                   ...  \n",
       "237825                                      SGC Frankfurt  \n",
       "237826                                      SGC Frankfurt  \n",
       "237827                                      SGC Frankfurt  \n",
       "237828                                      SGC Frankfurt  \n",
       "237829                                      SGC Frankfurt  \n",
       "\n",
       "[237830 rows x 15 columns]"
      ]
     },
     "execution_count": 13,
     "metadata": {},
     "output_type": "execute_result"
    }
   ],
   "source": [
    "activities[\"activities.standard_value\"] = activities[\"activities.standard_value\"].apply(lambda x: 9 - (np.log(x) / np.log(10)))\n",
    "activities[\"activities.standard_type\"] = activities[\"activities.standard_type\"].apply(\"p{}\".format)\n",
    "activities"
   ]
  },
  {
   "cell_type": "markdown",
   "metadata": {},
   "source": [
    "# Curate the dataset"
   ]
  },
  {
   "cell_type": "markdown",
   "metadata": {},
   "source": [
    "The following list is compiled from lessons learned in Kramer's _J. Med. Chem._ 2012, 55, 5165-5173. [10.1021/jm300131x](https://dx.doi.org/10.1021/jm300131x).\n",
    "\n",
    "Kramer et al propose the following pipeline to make sure the data queried from ChEMBL is high quality:\n",
    "\n",
    "1. **Remove the dummy target CHEMBL612545**. Maybe we don't have this because we are coming from UniProt IDs, but this is a dummy identifier for unchecked targets!\n",
    "2. **Group by protein and ligand, and remove singletons**. Systems that were measured only once are not taken into account. We might leave these ones.\n",
    "3. **Remove unclear units or values**. Only measurements with reported units. Values lower than $1fM$, higher than $10mM$ must be removed too.\n",
    "4. **Keep the highest pKi for those systems with several measurements in the _same_ publication**. This handles unclear stereoisomer annotations and/or experimental optimization.\n",
    "5. **Remove measurements that come from manuscripts citing the original reporting publication**. Probably the most important part here. Identical values for the same system in different publications were removed, as well as those within 0.02 pKi units (rounding error), or exactly 3 or 6 pKi units (transcription errors).\n",
    "6. **Remove measurements for the same system from different publications if they share one or more authors**. This helps identify truly independent measurements.\n",
    "\n",
    "We will try to implement this in the following sections. Each step will be checkpointed in the `curated` list."
   ]
  },
  {
   "cell_type": "code",
   "execution_count": 14,
   "metadata": {},
   "outputs": [],
   "source": [
    "curated = []"
   ]
  },
  {
   "cell_type": "code",
   "execution_count": 15,
   "metadata": {},
   "outputs": [
    {
     "name": "stdout",
     "output_type": "stream",
     "text": [
      "Initial number of bioactivities: 237830\n"
     ]
    }
   ],
   "source": [
    "print(\"Initial number of bioactivities:\", activities.shape[0])"
   ]
  },
  {
   "cell_type": "markdown",
   "metadata": {},
   "source": [
    "## Remove the dummy target CHEMBL612545"
   ]
  },
  {
   "cell_type": "code",
   "execution_count": 16,
   "metadata": {},
   "outputs": [
    {
     "data": {
      "text/plain": [
       "237830"
      ]
     },
     "execution_count": 16,
     "metadata": {},
     "output_type": "execute_result"
    }
   ],
   "source": [
    "no_dummy = activities.query(\"'CHEMBL612545' not in `target_dictionary.chembl_id`\")\n",
    "no_dummy.shape[0]"
   ]
  },
  {
   "cell_type": "code",
   "execution_count": 17,
   "metadata": {},
   "outputs": [],
   "source": [
    "curated.append(no_dummy)"
   ]
  },
  {
   "cell_type": "markdown",
   "metadata": {},
   "source": [
    "## Group by protein and ligand, and remove singletons.\n",
    "\n",
    "We are _not_ removing the singletons because we can actually use them (Kramer et al were studing the distribution of activity values, we are doing predictions). This is here so we get an idea on how many \"single measurements\" the dataset contains."
   ]
  },
  {
   "cell_type": "code",
   "execution_count": 18,
   "metadata": {},
   "outputs": [
    {
     "name": "stdout",
     "output_type": "stream",
     "text": [
      "Single measurements ratio: 156653 out of 237830 -> 65.86763654711349 %\n"
     ]
    }
   ],
   "source": [
    "grouped_by_system = no_dummy.groupby(['target_dictionary.chembl_id', 'molecule_dictionary.chembl_id'])\n",
    "grouped_counts = grouped_by_system.size()\n",
    "singletons = grouped_counts[grouped_counts == 1].index\n",
    "print(\"Single measurements ratio:\", singletons.shape[0], \"out of\", activities.shape[0], \"->\", 100 * singletons.shape[0] / activities.shape[0], \"%\")"
   ]
  },
  {
   "cell_type": "markdown",
   "metadata": {},
   "source": [
    "## Clean extreme values\n"
   ]
  },
  {
   "cell_type": "code",
   "execution_count": 19,
   "metadata": {},
   "outputs": [
    {
     "data": {
      "text/plain": [
       "237772"
      ]
     },
     "execution_count": 19,
     "metadata": {},
     "output_type": "execute_result"
    }
   ],
   "source": [
    "no_extreme = no_dummy.query(\"1 <= `activities.standard_value` <= 15\")\n",
    "no_extreme.shape[0]"
   ]
  },
  {
   "cell_type": "code",
   "execution_count": 20,
   "metadata": {},
   "outputs": [],
   "source": [
    "curated.append(no_extreme)"
   ]
  },
  {
   "cell_type": "markdown",
   "metadata": {},
   "source": [
    "## Keep the highest value for those systems with several measurements in the same publication\n",
    "\n",
    "We sort by activity value (largest first), and then remove the duplicate keys for target+ligand+document, thus removing those values in the same publication that are not the maximum, because we keep the first occurrence."
   ]
  },
  {
   "cell_type": "code",
   "execution_count": 21,
   "metadata": {},
   "outputs": [
    {
     "data": {
      "text/plain": [
       "206836"
      ]
     },
     "execution_count": 21,
     "metadata": {},
     "output_type": "execute_result"
    }
   ],
   "source": [
    "max_activity_same_publication = no_extreme.sort_values(\"activities.standard_value\", ascending=False).drop_duplicates([\"target_dictionary.chembl_id\", \"molecule_dictionary.chembl_id\", \"docs.chembl_id\"])\n",
    "max_activity_same_publication.shape[0]"
   ]
  },
  {
   "cell_type": "code",
   "execution_count": 22,
   "metadata": {},
   "outputs": [],
   "source": [
    "curated.append(max_activity_same_publication)"
   ]
  },
  {
   "cell_type": "markdown",
   "metadata": {},
   "source": [
    "## Remove measurements that come from manuscripts citing the original reporting publication."
   ]
  },
  {
   "cell_type": "markdown",
   "metadata": {},
   "source": [
    "Identify systems that have the exact same number."
   ]
  },
  {
   "cell_type": "code",
   "execution_count": 23,
   "metadata": {},
   "outputs": [
    {
     "data": {
      "text/plain": [
       "196429"
      ]
     },
     "execution_count": 23,
     "metadata": {},
     "output_type": "execute_result"
    }
   ],
   "source": [
    "no_exact_duplicates = max_activity_same_publication.drop_duplicates([\"target_dictionary.chembl_id\", \"molecule_dictionary.chembl_id\", \"activities.standard_value\"])\n",
    "no_exact_duplicates.shape[0]"
   ]
  },
  {
   "cell_type": "code",
   "execution_count": 24,
   "metadata": {},
   "outputs": [],
   "source": [
    "curated.append(no_exact_duplicates)"
   ]
  },
  {
   "cell_type": "markdown",
   "metadata": {},
   "source": [
    "What about those within a certain rounding error? We do that by removing duplicates after rounding with two decimal points. As a result our threshold is smaller (0.01 vs Kramer's 0.02)."
   ]
  },
  {
   "cell_type": "code",
   "execution_count": 25,
   "metadata": {},
   "outputs": [
    {
     "data": {
      "text/plain": [
       "195414"
      ]
     },
     "execution_count": 25,
     "metadata": {},
     "output_type": "execute_result"
    }
   ],
   "source": [
    "no_rounded_duplicates = (\n",
    "    no_exact_duplicates\n",
    "        .assign(activities_standard_value_rounded=lambda x: x[\"activities.standard_value\"].round(2))\n",
    "        .drop_duplicates([\"target_dictionary.chembl_id\", \"molecule_dictionary.chembl_id\", \"activities_standard_value_rounded\"])\n",
    "        .drop(columns=[\"activities_standard_value_rounded\"])\n",
    ")\n",
    "no_rounded_duplicates.shape[0]"
   ]
  },
  {
   "cell_type": "markdown",
   "metadata": {},
   "source": [
    "We don't deal with unit transcription errors because in that case we are trusting ChEMBL's standardized units."
   ]
  },
  {
   "cell_type": "code",
   "execution_count": 26,
   "metadata": {},
   "outputs": [],
   "source": [
    "curated.append(no_rounded_duplicates)"
   ]
  },
  {
   "cell_type": "markdown",
   "metadata": {},
   "source": [
    "## Remove measurements for the same system from different publications if they share one or more authors"
   ]
  },
  {
   "cell_type": "code",
   "execution_count": 27,
   "metadata": {},
   "outputs": [
    {
     "data": {
      "text/plain": [
       "96251      True\n",
       "97672      True\n",
       "93879      True\n",
       "100714     True\n",
       "97805      True\n",
       "          ...  \n",
       "69295     False\n",
       "69294     False\n",
       "59897      True\n",
       "145604     True\n",
       "194419     True\n",
       "Name: docs.authors, Length: 195414, dtype: bool"
      ]
     },
     "execution_count": 27,
     "metadata": {},
     "output_type": "execute_result"
    }
   ],
   "source": [
    "def shared_authors(group):\n",
    "    \"Return True if authors are not shared and we should keep this group\"\n",
    "    if group.shape[0] == 1:\n",
    "        return [True]\n",
    "    authors_per_entry = [(set() if entry is None else set(entry.split(\", \"))) for entry in group.values]\n",
    "    return [any(a.intersection(b) for b in authors_per_entry if a != b) for a in authors_per_entry]\n",
    "\n",
    "no_shared_authors_mask = no_rounded_duplicates.groupby([\"target_dictionary.chembl_id\", \"molecule_dictionary.chembl_id\"])[\"docs.authors\"].transform(shared_authors)\n",
    "no_shared_authors_mask"
   ]
  },
  {
   "cell_type": "code",
   "execution_count": 28,
   "metadata": {},
   "outputs": [
    {
     "data": {
      "text/plain": [
       "187387"
      ]
     },
     "execution_count": 28,
     "metadata": {},
     "output_type": "execute_result"
    }
   ],
   "source": [
    "no_shared_authors = no_rounded_duplicates[no_shared_authors_mask]\n",
    "no_shared_authors.shape[0]"
   ]
  },
  {
   "cell_type": "code",
   "execution_count": 29,
   "metadata": {},
   "outputs": [],
   "source": [
    "curated.append(no_shared_authors)"
   ]
  },
  {
   "cell_type": "code",
   "execution_count": 30,
   "metadata": {},
   "outputs": [],
   "source": [
    "final = curated[-1]"
   ]
  },
  {
   "cell_type": "markdown",
   "metadata": {},
   "source": [
    "Save to CSV"
   ]
  },
  {
   "cell_type": "code",
   "execution_count": 44,
   "metadata": {},
   "outputs": [],
   "source": [
    "final.to_csv(DATA / f\"activities-chembl{CHEMBL_VERSION}.csv\")"
   ]
  },
  {
   "cell_type": "markdown",
   "metadata": {},
   "source": [
    "# Analyze cleaned data"
   ]
  },
  {
   "cell_type": "code",
   "execution_count": 32,
   "metadata": {},
   "outputs": [
    {
     "data": {
      "image/png": "[encoded data removed]",
      "text/plain": [
       "<Figure size 432x288 with 1 Axes>"
      ]
     },
     "metadata": {
      "needs_background": "light"
     },
     "output_type": "display_data"
    }
   ],
   "source": [
    "from matplotlib import pyplot as plt\n",
    "\n",
    "fig, ax = plt.subplots()\n",
    "ax.plot(range(1, len(curated) + 1), [df.shape[0] for df in curated])\n",
    "ax.set_xlabel(\"Curation steps\")\n",
    "ax.set_ylabel(\"# data points\")\n",
    "ax.set_ylim(0, 250000);"
   ]
  },
  {
   "cell_type": "code",
   "execution_count": 33,
   "metadata": {},
   "outputs": [
    {
     "data": {
      "image/png": "[encoded data removed]",
      "text/plain": [
       "<Figure size 432x288 with 1 Axes>"
      ]
     },
     "metadata": {
      "needs_background": "light"
     },
     "output_type": "display_data"
    }
   ],
   "source": [
    "final[\"activities.standard_value\"].plot.hist(title=\"Distribution of p-activity values\", xlabel=\"pMeasurement\");"
   ]
  },
  {
   "cell_type": "code",
   "execution_count": 34,
   "metadata": {},
   "outputs": [
    {
     "data": {
      "text/plain": [
       "9    109569\n",
       "8     77818\n",
       "Name: assays.confidence_score, dtype: int64"
      ]
     },
     "metadata": {},
     "output_type": "display_data"
    },
    {
     "data": {
      "image/png": "[encoded data removed]",
      "text/plain": [
       "<Figure size 432x288 with 1 Axes>"
      ]
     },
     "metadata": {
      "needs_background": "light"
     },
     "output_type": "display_data"
    }
   ],
   "source": [
    "display(final[\"assays.confidence_score\"].value_counts())\n",
    "final[\"assays.confidence_score\"].plot.hist(title=\"Distribution of confidence scores\");"
   ]
  },
  {
   "cell_type": "markdown",
   "metadata": {},
   "source": [
    "Distribution of document ids:"
   ]
  },
  {
   "cell_type": "code",
   "execution_count": 35,
   "metadata": {},
   "outputs": [
    {
     "data": {
      "text/plain": [
       "CHEMBL1908390    5813\n",
       "CHEMBL3879910    3316\n",
       "CHEMBL1240340    2235\n",
       "CHEMBL3886441    1511\n",
       "CHEMBL3639326    1502\n",
       "CHEMBL1150977    1228\n",
       "CHEMBL3886705    1227\n",
       "CHEMBL3638592    1148\n",
       "CHEMBL3638646    1103\n",
       "CHEMBL3638802     998\n",
       "Name: docs.chembl_id, dtype: int64"
      ]
     },
     "metadata": {},
     "output_type": "display_data"
    },
    {
     "data": {
      "image/png": "[encoded data removed]",
      "text/plain": [
       "<Figure size 432x288 with 1 Axes>"
      ]
     },
     "metadata": {
      "needs_background": "light"
     },
     "output_type": "display_data"
    }
   ],
   "source": [
    "doc_counts = final[\"docs.chembl_id\"].value_counts()\n",
    "display(doc_counts[:10])\n",
    "doc_counts[:30].plot.bar();"
   ]
  },
  {
   "cell_type": "markdown",
   "metadata": {},
   "source": [
    "Distribution of clinical phases:"
   ]
  },
  {
   "cell_type": "code",
   "execution_count": 36,
   "metadata": {},
   "outputs": [
    {
     "data": {
      "text/plain": [
       "0    179267\n",
       "4      3262\n",
       "2      2207\n",
       "3      1625\n",
       "1      1026\n",
       "Name: molecule_dictionary.max_phase, dtype: int64"
      ]
     },
     "metadata": {},
     "output_type": "display_data"
    },
    {
     "data": {
      "image/png": "[encoded data removed]",
      "text/plain": [
       "<Figure size 432x288 with 1 Axes>"
      ]
     },
     "metadata": {
      "needs_background": "light"
     },
     "output_type": "display_data"
    }
   ],
   "source": [
    "phase_counts = final[\"molecule_dictionary.max_phase\"].value_counts()\n",
    "display(phase_counts[:10])\n",
    "phase_counts[:30].plot.bar();"
   ]
  },
  {
   "cell_type": "markdown",
   "metadata": {},
   "source": [
    "Distribution of measurements per kinase:"
   ]
  },
  {
   "cell_type": "code",
   "execution_count": 37,
   "metadata": {},
   "outputs": [],
   "source": [
    "counts_per_target = final.groupby(\"target_dictionary.chembl_id\").size().sort_values(ascending=False)"
   ]
  },
  {
   "cell_type": "code",
   "execution_count": 38,
   "metadata": {},
   "outputs": [],
   "source": [
    "from IPython.display import Markdown"
   ]
  },
  {
   "cell_type": "code",
   "execution_count": 39,
   "metadata": {},
   "outputs": [
    {
     "data": {
      "text/markdown": [
       "| Target | Count |\n",
       "|--------|-------|\n",
       "| [CHEMBL279](https://www.ebi.ac.uk/chembl/target_report_card/CHEMBL279/) | 8055 |\n",
       "| [CHEMBL203](https://www.ebi.ac.uk/chembl/target_report_card/CHEMBL203/) | 6458 |\n",
       "| [CHEMBL4005](https://www.ebi.ac.uk/chembl/target_report_card/CHEMBL4005/) | 5429 |\n",
       "| [CHEMBL2971](https://www.ebi.ac.uk/chembl/target_report_card/CHEMBL2971/) | 5266 |\n",
       "| [CHEMBL2835](https://www.ebi.ac.uk/chembl/target_report_card/CHEMBL2835/) | 4155 |\n",
       "| [CHEMBL2842](https://www.ebi.ac.uk/chembl/target_report_card/CHEMBL2842/) | 4120 |\n",
       "| [CHEMBL260](https://www.ebi.ac.uk/chembl/target_report_card/CHEMBL260/) | 3962 |\n",
       "| [CHEMBL2147](https://www.ebi.ac.uk/chembl/target_report_card/CHEMBL2147/) | 3913 |\n",
       "| [CHEMBL5145](https://www.ebi.ac.uk/chembl/target_report_card/CHEMBL5145/) | 3903 |\n",
       "| [CHEMBL267](https://www.ebi.ac.uk/chembl/target_report_card/CHEMBL267/) | 3276 |\n",
       "| [CHEMBL3717](https://www.ebi.ac.uk/chembl/target_report_card/CHEMBL3717/) | 3198 |\n",
       "| [CHEMBL2599](https://www.ebi.ac.uk/chembl/target_report_card/CHEMBL2599/) | 3182 |\n",
       "| [CHEMBL1163125](https://www.ebi.ac.uk/chembl/target_report_card/CHEMBL1163125/) | 3133 |\n",
       "| [CHEMBL4040](https://www.ebi.ac.uk/chembl/target_report_card/CHEMBL4040/) | 3023 |\n",
       "| [CHEMBL4282](https://www.ebi.ac.uk/chembl/target_report_card/CHEMBL4282/) | 3013 |\n",
       "| [CHEMBL2148](https://www.ebi.ac.uk/chembl/target_report_card/CHEMBL2148/) | 2955 |\n",
       "| [CHEMBL3130](https://www.ebi.ac.uk/chembl/target_report_card/CHEMBL3130/) | 2765 |\n",
       "| [CHEMBL2815](https://www.ebi.ac.uk/chembl/target_report_card/CHEMBL2815/) | 2745 |\n",
       "| [CHEMBL4722](https://www.ebi.ac.uk/chembl/target_report_card/CHEMBL4722/) | 2725 |\n",
       "| [CHEMBL262](https://www.ebi.ac.uk/chembl/target_report_card/CHEMBL262/) | 2501 |"
      ],
      "text/plain": [
       "<IPython.core.display.Markdown object>"
      ]
     },
     "metadata": {},
     "output_type": "display_data"
    }
   ],
   "source": [
    "md = [\"| Target | Count |\", \n",
    "      \"|--------|-------|\"]\n",
    "for k, v in counts_per_target.head(20).iteritems():\n",
    "    md.append(f\"| [{k}](https://www.ebi.ac.uk/chembl/target_report_card/{k}/) | {v} |\")\n",
    "display(Markdown(\"\\n\".join(md)))"
   ]
  },
  {
   "cell_type": "code",
   "execution_count": 40,
   "metadata": {},
   "outputs": [],
   "source": [
    "%matplotlib widget"
   ]
  },
  {
   "cell_type": "code",
   "execution_count": 41,
   "metadata": {},
   "outputs": [
    {
     "data": {
      "application/vnd.jupyter.widget-view+json": {
       "model_id": "d2ce05133aa246179d395f317fd26658",
       "version_major": 2,
       "version_minor": 0
      },
      "text/plain": [
       "Canvas(toolbar=Toolbar(toolitems=[('Home', 'Reset original view', 'home', 'home'), ('Back', 'Back to previous …"
      ]
     },
     "metadata": {},
     "output_type": "display_data"
    },
    {
     "data": {
      "text/plain": [
       "<AxesSubplot:xlabel='target_dictionary.chembl_id'>"
      ]
     },
     "execution_count": 41,
     "metadata": {},
     "output_type": "execute_result"
    }
   ],
   "source": [
    "counts_per_target.plot.bar()"
   ]
  },
  {
   "cell_type": "code",
   "execution_count": 42,
   "metadata": {},
   "outputs": [
    {
     "data": {
      "text/html": [
       "<div>\n",
       "<style scoped>\n",
       "    .dataframe tbody tr th:only-of-type {\n",
       "        vertical-align: middle;\n",
       "    }\n",
       "\n",
       "    .dataframe tbody tr th {\n",
       "        vertical-align: top;\n",
       "    }\n",
       "\n",
       "    .dataframe thead th {\n",
       "        text-align: right;\n",
       "    }\n",
       "</style>\n",
       "<table border=\"1\" class=\"dataframe\">\n",
       "  <thead>\n",
       "    <tr style=\"text-align: right;\">\n",
       "      <th></th>\n",
       "      <th></th>\n",
       "      <th>Count</th>\n",
       "    </tr>\n",
       "    <tr>\n",
       "      <th>target_dictionary.chembl_id</th>\n",
       "      <th>activities.standard_type</th>\n",
       "      <th></th>\n",
       "    </tr>\n",
       "  </thead>\n",
       "  <tbody>\n",
       "    <tr>\n",
       "      <th>CHEMBL1075102</th>\n",
       "      <th>pIC50</th>\n",
       "      <td>18</td>\n",
       "    </tr>\n",
       "    <tr>\n",
       "      <th rowspan=\"3\" valign=\"top\">CHEMBL1075104</th>\n",
       "      <th>pIC50</th>\n",
       "      <td>1039</td>\n",
       "    </tr>\n",
       "    <tr>\n",
       "      <th>pKd</th>\n",
       "      <td>22</td>\n",
       "    </tr>\n",
       "    <tr>\n",
       "      <th>pKi</th>\n",
       "      <td>603</td>\n",
       "    </tr>\n",
       "    <tr>\n",
       "      <th>CHEMBL1075115</th>\n",
       "      <th>pIC50</th>\n",
       "      <td>6</td>\n",
       "    </tr>\n",
       "    <tr>\n",
       "      <th>...</th>\n",
       "      <th>...</th>\n",
       "      <td>...</td>\n",
       "    </tr>\n",
       "    <tr>\n",
       "      <th rowspan=\"2\" valign=\"top\">CHEMBL6167</th>\n",
       "      <th>pIC50</th>\n",
       "      <td>268</td>\n",
       "    </tr>\n",
       "    <tr>\n",
       "      <th>pKd</th>\n",
       "      <td>15</td>\n",
       "    </tr>\n",
       "    <tr>\n",
       "      <th rowspan=\"2\" valign=\"top\">CHEMBL6186</th>\n",
       "      <th>pIC50</th>\n",
       "      <td>5</td>\n",
       "    </tr>\n",
       "    <tr>\n",
       "      <th>pKd</th>\n",
       "      <td>16</td>\n",
       "    </tr>\n",
       "    <tr>\n",
       "      <th>CHEMBL6191</th>\n",
       "      <th>pKd</th>\n",
       "      <td>59</td>\n",
       "    </tr>\n",
       "  </tbody>\n",
       "</table>\n",
       "<p>1032 rows × 1 columns</p>\n",
       "</div>"
      ],
      "text/plain": [
       "                                                      Count\n",
       "target_dictionary.chembl_id activities.standard_type       \n",
       "CHEMBL1075102               pIC50                        18\n",
       "CHEMBL1075104               pIC50                      1039\n",
       "                            pKd                          22\n",
       "                            pKi                         603\n",
       "CHEMBL1075115               pIC50                         6\n",
       "...                                                     ...\n",
       "CHEMBL6167                  pIC50                       268\n",
       "                            pKd                          15\n",
       "CHEMBL6186                  pIC50                         5\n",
       "                            pKd                          16\n",
       "CHEMBL6191                  pKd                          59\n",
       "\n",
       "[1032 rows x 1 columns]"
      ]
     },
     "execution_count": 42,
     "metadata": {},
     "output_type": "execute_result"
    }
   ],
   "source": [
    "counts_per_target_and_measurement = pd.DataFrame(final.groupby([\"target_dictionary.chembl_id\", \"activities.standard_type\"]).size(), columns=[\"Count\"])\n",
    "counts_per_target_and_measurement"
   ]
  },
  {
   "cell_type": "code",
   "execution_count": 43,
   "metadata": {},
   "outputs": [
    {
     "data": {
      "application/vnd.jupyter.widget-view+json": {
       "model_id": "db2e6ad690814fb7b960a0cb25d716b1",
       "version_major": 2,
       "version_minor": 0
      },
      "text/plain": [
       "Canvas(toolbar=Toolbar(toolitems=[('Home', 'Reset original view', 'home', 'home'), ('Back', 'Back to previous …"
      ]
     },
     "metadata": {},
     "output_type": "display_data"
    },
    {
     "data": {
      "text/plain": [
       "<AxesSubplot:xlabel='target_dictionary.chembl_id,activities.standard_type'>"
      ]
     },
     "execution_count": 43,
     "metadata": {},
     "output_type": "execute_result"
    }
   ],
   "source": [
    "counts_per_target_and_measurement.sort_values(by=\"Count\", ascending=False).plot.bar()"
   ]
  }
 ],
 "metadata": {
  "kernelspec": {
   "display_name": "Python 3",
   "language": "python",
   "name": "python3"
  },
  "language_info": {
   "codemirror_mode": {
    "name": "ipython",
    "version": 3
   },
   "file_extension": ".py",
   "mimetype": "text/x-python",
   "name": "python",
   "nbconvert_exporter": "python",
   "pygments_lexer": "ipython3",
   "version": "3.7.8"
  },
  "toc-autonumbering": true,
  "toc-showcode": false,
  "toc-showmarkdowntxt": false,
  "toc-showtags": false,
  "widgets": {
   "application/vnd.jupyter.widget-state+json": {
    "state": {
     "18e84ce8b0c94a17934beac19f88d7fd": {
      "model_module": "@jupyter-widgets/base",
      "model_module_version": "1.2.0",
      "model_name": "LayoutModel",
      "state": {}
     },
     "198953f038394bffbd6da6c000f62271": {
      "model_module": "@jupyter-widgets/base",
      "model_module_version": "1.2.0",
      "model_name": "LayoutModel",
      "state": {}
     },
     "5c31f800987d4aa58ac7bac5cb41be40": {
      "model_module": "jupyter-matplotlib",
      "model_module_version": "^0.8.3",
      "model_name": "ToolbarModel",
      "state": {
       "layout": "IPY_MODEL_198953f038394bffbd6da6c000f62271",
       "toolitems": [
        [
         "Home",
         "Reset original view",
         "home",
         "home"
        ],
        [
         "Back",
         "Back to previous view",
         "arrow-left",
         "back"
        ],
        [
         "Forward",
         "Forward to next view",
         "arrow-right",
         "forward"
        ],
        [
         "Pan",
         "Left button pans, Right button zooms\nx/y fixes axis, CTRL fixes aspect",
         "arrows",
         "pan"
        ],
        [
         "Zoom",
         "Zoom to rectangle\nx/y fixes axis, CTRL fixes aspect",
         "square-o",
         "zoom"
        ],
        [
         "Download",
         "Download plot",
         "floppy-o",
         "save_figure"
        ]
       ]
      }
     },
     "b348f73a015a4d1f8dd05962a01a40d4": {
      "model_module": "@jupyter-widgets/base",
      "model_module_version": "1.2.0",
      "model_name": "LayoutModel",
      "state": {}
     },
     "d2ce05133aa246179d395f317fd26658": {
      "model_module": "jupyter-matplotlib",
      "model_module_version": "^0.8.3",
      "model_name": "MPLCanvasModel",
      "state": {
       "_cursor": "default",
       "_figure_label": "Figure 1",
       "_height": 480,
       "_width": 640,
       "layout": "IPY_MODEL_e7807c71bbbd4925891291184d2c8878",
       "toolbar": "IPY_MODEL_5c31f800987d4aa58ac7bac5cb41be40",
       "toolbar_position": "left"
      }
     },
     "d767ed99ccaa489d81d135faadb3851f": {
      "model_module": "jupyter-matplotlib",
      "model_module_version": "^0.8.3",
      "model_name": "ToolbarModel",
      "state": {
       "layout": "IPY_MODEL_b348f73a015a4d1f8dd05962a01a40d4",
       "toolitems": [
        [
         "Home",
         "Reset original view",
         "home",
         "home"
        ],
        [
         "Back",
         "Back to previous view",
         "arrow-left",
         "back"
        ],
        [
         "Forward",
         "Forward to next view",
         "arrow-right",
         "forward"
        ],
        [
         "Pan",
         "Left button pans, Right button zooms\nx/y fixes axis, CTRL fixes aspect",
         "arrows",
         "pan"
        ],
        [
         "Zoom",
         "Zoom to rectangle\nx/y fixes axis, CTRL fixes aspect",
         "square-o",
         "zoom"
        ],
        [
         "Download",
         "Download plot",
         "floppy-o",
         "save_figure"
        ]
       ]
      }
     },
     "db2e6ad690814fb7b960a0cb25d716b1": {
      "model_module": "jupyter-matplotlib",
      "model_module_version": "^0.8.3",
      "model_name": "MPLCanvasModel",
      "state": {
       "_cursor": "default",
       "_figure_label": "Figure 2",
       "_height": 480,
       "_width": 640,
       "layout": "IPY_MODEL_18e84ce8b0c94a17934beac19f88d7fd",
       "toolbar": "IPY_MODEL_d767ed99ccaa489d81d135faadb3851f",
       "toolbar_position": "left"
      }
     },
     "e7807c71bbbd4925891291184d2c8878": {
      "model_module": "@jupyter-widgets/base",
      "model_module_version": "1.2.0",
      "model_name": "LayoutModel",
      "state": {}
     }
    },
    "version_major": 2,
    "version_minor": 0
   }
  }
 },
 "nbformat": 4,
 "nbformat_minor": 4
}
