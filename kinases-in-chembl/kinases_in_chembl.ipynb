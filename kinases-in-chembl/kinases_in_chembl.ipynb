{
 "cells": [
  {
   "cell_type": "markdown",
   "metadata": {},
   "source": [
    "# Find all human kinases in ChEMBL\n",
    "\n",
    "This notebook maps Uniprot IDs to ChEMBL target IDs and produces a helper CSV file useful in other notebooks"
   ]
  },
  {
   "cell_type": "code",
   "execution_count": 7,
   "metadata": {},
   "outputs": [],
   "source": [
    "from pathlib import Path\n",
    "\n",
    "import pandas as pd\n",
    "from chembl_webresource_client.new_client import new_client as chembl\n",
    "from chembl_webresource_client.settings import Settings\n",
    "Settings.Instance().CACHE = False"
   ]
  },
  {
   "cell_type": "code",
   "execution_count": 2,
   "metadata": {},
   "outputs": [],
   "source": [
    "REPO = (Path(_dh[-1]) / \"..\").resolve()\n",
    "DATA = REPO / 'data'"
   ]
  },
  {
   "cell_type": "markdown",
   "metadata": {},
   "source": [
    "Load human kinases list, as obtained from http://kinhub.org/kinases.html"
   ]
  },
  {
   "cell_type": "code",
   "execution_count": 4,
   "metadata": {},
   "outputs": [
    {
     "output_type": "execute_result",
     "data": {
      "text/plain": "        xName Manning Name HGNC Name  \\\n0        ABL1          ABL      ABL1   \n1         ACK          ACK      TNK2   \n2       ACTR2        ACTR2    ACVR2A   \n3      ACTR2B       ACTR2B    ACVR2B   \n4       ADCK4        ADCK4     ADCK4   \n..        ...          ...       ...   \n531    GTF2F1       GTF2F1       NaN   \n532  Col4A3BP     Col4A3BP  COL4A3BP   \n533     BLVRA        BLVRA     BLVRA   \n534     BAZ1A        BAZ1A     BAZ1A   \n535     BAZ1B        BAZ1B     BAZ1B   \n\n                                           Kinase Name     Group    Family  \\\n0                         Tyrosine-protein kinase ABL1        TK       Abl   \n1                             Activated CDC42 kinase 1        TK       Ack   \n2                             Activin receptor type-2A       TKL      STKR   \n3                             Activin receptor type-2B       TKL      STKR   \n4    Uncharacterized aarF domain-containing protein...  Atypical      ABC1   \n..                                                 ...       ...       ...   \n531                                                NaN  Atypical    GTF2F1   \n532           Collagen type IV alpha-3-binding protein  Atypical  Col4A3BP   \n533                             Biliverdin reductase A  Atypical     BLVRA   \n534  Bromodomain adjacent to zinc finger domain pro...  Atypical       BAZ   \n535                      Tyrosine-protein kinase BAZ1B  Atypical       BAZ   \n\n    SubFamily UniprotID  \n0         NaN    P00519  \n1         NaN    Q07912  \n2       STKR2    P27037  \n3       STKR2    Q13705  \n4      ABC1-A    Q96D53  \n..        ...       ...  \n531       NaN    Q6IBK5  \n532       NaN    Q9Y5P4  \n533       NaN    P53004  \n534       NaN    Q9NRL2  \n535       NaN    Q9UIG0  \n\n[536 rows x 8 columns]",
      "text/html": "<div>\n<style scoped>\n    .dataframe tbody tr th:only-of-type {\n        vertical-align: middle;\n    }\n\n    .dataframe tbody tr th {\n        vertical-align: top;\n    }\n\n    .dataframe thead th {\n        text-align: right;\n    }\n</style>\n<table border=\"1\" class=\"dataframe\">\n  <thead>\n    <tr style=\"text-align: right;\">\n      <th></th>\n      <th>xName</th>\n      <th>Manning Name</th>\n      <th>HGNC Name</th>\n      <th>Kinase Name</th>\n      <th>Group</th>\n      <th>Family</th>\n      <th>SubFamily</th>\n      <th>UniprotID</th>\n    </tr>\n  </thead>\n  <tbody>\n    <tr>\n      <th>0</th>\n      <td>ABL1</td>\n      <td>ABL</td>\n      <td>ABL1</td>\n      <td>Tyrosine-protein kinase ABL1</td>\n      <td>TK</td>\n      <td>Abl</td>\n      <td>NaN</td>\n      <td>P00519</td>\n    </tr>\n    <tr>\n      <th>1</th>\n      <td>ACK</td>\n      <td>ACK</td>\n      <td>TNK2</td>\n      <td>Activated CDC42 kinase 1</td>\n      <td>TK</td>\n      <td>Ack</td>\n      <td>NaN</td>\n      <td>Q07912</td>\n    </tr>\n    <tr>\n      <th>2</th>\n      <td>ACTR2</td>\n      <td>ACTR2</td>\n      <td>ACVR2A</td>\n      <td>Activin receptor type-2A</td>\n      <td>TKL</td>\n      <td>STKR</td>\n      <td>STKR2</td>\n      <td>P27037</td>\n    </tr>\n    <tr>\n      <th>3</th>\n      <td>ACTR2B</td>\n      <td>ACTR2B</td>\n      <td>ACVR2B</td>\n      <td>Activin receptor type-2B</td>\n      <td>TKL</td>\n      <td>STKR</td>\n      <td>STKR2</td>\n      <td>Q13705</td>\n    </tr>\n    <tr>\n      <th>4</th>\n      <td>ADCK4</td>\n      <td>ADCK4</td>\n      <td>ADCK4</td>\n      <td>Uncharacterized aarF domain-containing protein...</td>\n      <td>Atypical</td>\n      <td>ABC1</td>\n      <td>ABC1-A</td>\n      <td>Q96D53</td>\n    </tr>\n    <tr>\n      <th>...</th>\n      <td>...</td>\n      <td>...</td>\n      <td>...</td>\n      <td>...</td>\n      <td>...</td>\n      <td>...</td>\n      <td>...</td>\n      <td>...</td>\n    </tr>\n    <tr>\n      <th>531</th>\n      <td>GTF2F1</td>\n      <td>GTF2F1</td>\n      <td>NaN</td>\n      <td>NaN</td>\n      <td>Atypical</td>\n      <td>GTF2F1</td>\n      <td>NaN</td>\n      <td>Q6IBK5</td>\n    </tr>\n    <tr>\n      <th>532</th>\n      <td>Col4A3BP</td>\n      <td>Col4A3BP</td>\n      <td>COL4A3BP</td>\n      <td>Collagen type IV alpha-3-binding protein</td>\n      <td>Atypical</td>\n      <td>Col4A3BP</td>\n      <td>NaN</td>\n      <td>Q9Y5P4</td>\n    </tr>\n    <tr>\n      <th>533</th>\n      <td>BLVRA</td>\n      <td>BLVRA</td>\n      <td>BLVRA</td>\n      <td>Biliverdin reductase A</td>\n      <td>Atypical</td>\n      <td>BLVRA</td>\n      <td>NaN</td>\n      <td>P53004</td>\n    </tr>\n    <tr>\n      <th>534</th>\n      <td>BAZ1A</td>\n      <td>BAZ1A</td>\n      <td>BAZ1A</td>\n      <td>Bromodomain adjacent to zinc finger domain pro...</td>\n      <td>Atypical</td>\n      <td>BAZ</td>\n      <td>NaN</td>\n      <td>Q9NRL2</td>\n    </tr>\n    <tr>\n      <th>535</th>\n      <td>BAZ1B</td>\n      <td>BAZ1B</td>\n      <td>BAZ1B</td>\n      <td>Tyrosine-protein kinase BAZ1B</td>\n      <td>Atypical</td>\n      <td>BAZ</td>\n      <td>NaN</td>\n      <td>Q9UIG0</td>\n    </tr>\n  </tbody>\n</table>\n<p>536 rows × 8 columns</p>\n</div>"
     },
     "metadata": {},
     "execution_count": 4
    }
   ],
   "source": [
    "kinases = pd.read_csv(DATA / \"KinHubKinaseList.csv\")\n",
    "kinases"
   ]
  },
  {
   "cell_type": "code",
   "execution_count": 5,
   "metadata": {},
   "outputs": [],
   "source": [
    "def get_target_chembl_ids_for_column(uniprot_ids):\n",
    "    \"\"\"\n",
    "    Given a list of uniprot_ids, return a list of target_chembl_ids for each uniprot_id\n",
    "    This can be used with pd.Dataframe.assign(...).\n",
    "    \"\"\"\n",
    "    results = []\n",
    "    for uniprot_id in uniprot_ids:\n",
    "        targets = [t['target_chembl_id'] for t in chembl.target.filter(\n",
    "            target_components__accession=uniprot_id, \n",
    "            organism=\"Homo sapiens\", \n",
    "            target_type=\"SINGLE PROTEIN\"\n",
    "        )]\n",
    "        results.append(targets)\n",
    "    return results"
   ]
  },
  {
   "cell_type": "code",
   "execution_count": 8,
   "metadata": {},
   "outputs": [
    {
     "output_type": "execute_result",
     "data": {
      "text/plain": "        xName Manning Name HGNC Name  \\\n0        ABL1          ABL      ABL1   \n1         ACK          ACK      TNK2   \n2       ACTR2        ACTR2    ACVR2A   \n3      ACTR2B       ACTR2B    ACVR2B   \n4       ADCK4        ADCK4     ADCK4   \n..        ...          ...       ...   \n527     TAF1L        TAF1L     TAF1L   \n528       BCR          BCR       BCR   \n532  Col4A3BP     Col4A3BP  COL4A3BP   \n534     BAZ1A        BAZ1A     BAZ1A   \n535     BAZ1B        BAZ1B     BAZ1B   \n\n                                           Kinase Name     Group    Family  \\\n0                         Tyrosine-protein kinase ABL1        TK       Abl   \n1                             Activated CDC42 kinase 1        TK       Ack   \n2                             Activin receptor type-2A       TKL      STKR   \n3                             Activin receptor type-2B       TKL      STKR   \n4    Uncharacterized aarF domain-containing protein...  Atypical      ABC1   \n..                                                 ...       ...       ...   \n527  Transcription initiation factor TFIID subunit ...  Atypical      TAF1   \n528                  Breakpoint cluster region protein  Atypical       BCR   \n532           Collagen type IV alpha-3-binding protein  Atypical  Col4A3BP   \n534  Bromodomain adjacent to zinc finger domain pro...  Atypical       BAZ   \n535                      Tyrosine-protein kinase BAZ1B  Atypical       BAZ   \n\n    SubFamily UniprotID chembl_targets  \n0         NaN    P00519     CHEMBL1862  \n1         NaN    Q07912     CHEMBL4599  \n2       STKR2    P27037     CHEMBL5616  \n3       STKR2    Q13705     CHEMBL5466  \n4      ABC1-A    Q96D53     CHEMBL5753  \n..        ...       ...            ...  \n527       NaN    Q8IZX4  CHEMBL3108641  \n528       NaN    P11274     CHEMBL5146  \n532       NaN    Q9Y5P4  CHEMBL3399913  \n534       NaN    Q9NRL2  CHEMBL4105737  \n535       NaN    Q9UIG0  CHEMBL3588730  \n\n[475 rows x 9 columns]",
      "text/html": "<div>\n<style scoped>\n    .dataframe tbody tr th:only-of-type {\n        vertical-align: middle;\n    }\n\n    .dataframe tbody tr th {\n        vertical-align: top;\n    }\n\n    .dataframe thead th {\n        text-align: right;\n    }\n</style>\n<table border=\"1\" class=\"dataframe\">\n  <thead>\n    <tr style=\"text-align: right;\">\n      <th></th>\n      <th>xName</th>\n      <th>Manning Name</th>\n      <th>HGNC Name</th>\n      <th>Kinase Name</th>\n      <th>Group</th>\n      <th>Family</th>\n      <th>SubFamily</th>\n      <th>UniprotID</th>\n      <th>chembl_targets</th>\n    </tr>\n  </thead>\n  <tbody>\n    <tr>\n      <th>0</th>\n      <td>ABL1</td>\n      <td>ABL</td>\n      <td>ABL1</td>\n      <td>Tyrosine-protein kinase ABL1</td>\n      <td>TK</td>\n      <td>Abl</td>\n      <td>NaN</td>\n      <td>P00519</td>\n      <td>CHEMBL1862</td>\n    </tr>\n    <tr>\n      <th>1</th>\n      <td>ACK</td>\n      <td>ACK</td>\n      <td>TNK2</td>\n      <td>Activated CDC42 kinase 1</td>\n      <td>TK</td>\n      <td>Ack</td>\n      <td>NaN</td>\n      <td>Q07912</td>\n      <td>CHEMBL4599</td>\n    </tr>\n    <tr>\n      <th>2</th>\n      <td>ACTR2</td>\n      <td>ACTR2</td>\n      <td>ACVR2A</td>\n      <td>Activin receptor type-2A</td>\n      <td>TKL</td>\n      <td>STKR</td>\n      <td>STKR2</td>\n      <td>P27037</td>\n      <td>CHEMBL5616</td>\n    </tr>\n    <tr>\n      <th>3</th>\n      <td>ACTR2B</td>\n      <td>ACTR2B</td>\n      <td>ACVR2B</td>\n      <td>Activin receptor type-2B</td>\n      <td>TKL</td>\n      <td>STKR</td>\n      <td>STKR2</td>\n      <td>Q13705</td>\n      <td>CHEMBL5466</td>\n    </tr>\n    <tr>\n      <th>4</th>\n      <td>ADCK4</td>\n      <td>ADCK4</td>\n      <td>ADCK4</td>\n      <td>Uncharacterized aarF domain-containing protein...</td>\n      <td>Atypical</td>\n      <td>ABC1</td>\n      <td>ABC1-A</td>\n      <td>Q96D53</td>\n      <td>CHEMBL5753</td>\n    </tr>\n    <tr>\n      <th>...</th>\n      <td>...</td>\n      <td>...</td>\n      <td>...</td>\n      <td>...</td>\n      <td>...</td>\n      <td>...</td>\n      <td>...</td>\n      <td>...</td>\n      <td>...</td>\n    </tr>\n    <tr>\n      <th>527</th>\n      <td>TAF1L</td>\n      <td>TAF1L</td>\n      <td>TAF1L</td>\n      <td>Transcription initiation factor TFIID subunit ...</td>\n      <td>Atypical</td>\n      <td>TAF1</td>\n      <td>NaN</td>\n      <td>Q8IZX4</td>\n      <td>CHEMBL3108641</td>\n    </tr>\n    <tr>\n      <th>528</th>\n      <td>BCR</td>\n      <td>BCR</td>\n      <td>BCR</td>\n      <td>Breakpoint cluster region protein</td>\n      <td>Atypical</td>\n      <td>BCR</td>\n      <td>NaN</td>\n      <td>P11274</td>\n      <td>CHEMBL5146</td>\n    </tr>\n    <tr>\n      <th>532</th>\n      <td>Col4A3BP</td>\n      <td>Col4A3BP</td>\n      <td>COL4A3BP</td>\n      <td>Collagen type IV alpha-3-binding protein</td>\n      <td>Atypical</td>\n      <td>Col4A3BP</td>\n      <td>NaN</td>\n      <td>Q9Y5P4</td>\n      <td>CHEMBL3399913</td>\n    </tr>\n    <tr>\n      <th>534</th>\n      <td>BAZ1A</td>\n      <td>BAZ1A</td>\n      <td>BAZ1A</td>\n      <td>Bromodomain adjacent to zinc finger domain pro...</td>\n      <td>Atypical</td>\n      <td>BAZ</td>\n      <td>NaN</td>\n      <td>Q9NRL2</td>\n      <td>CHEMBL4105737</td>\n    </tr>\n    <tr>\n      <th>535</th>\n      <td>BAZ1B</td>\n      <td>BAZ1B</td>\n      <td>BAZ1B</td>\n      <td>Tyrosine-protein kinase BAZ1B</td>\n      <td>Atypical</td>\n      <td>BAZ</td>\n      <td>NaN</td>\n      <td>Q9UIG0</td>\n      <td>CHEMBL3588730</td>\n    </tr>\n  </tbody>\n</table>\n<p>475 rows × 9 columns</p>\n</div>"
     },
     "metadata": {},
     "execution_count": 8
    }
   ],
   "source": [
    "df = (kinases\n",
    "    .assign(chembl_targets=lambda x: get_target_chembl_ids_for_column(x.UniprotID.tolist()))\n",
    "    .explode('chembl_targets')\n",
    "    .dropna(subset=[\"chembl_targets\"])\n",
    ")\n",
    "df.to_csv(DATA / \"human_kinases_and_chembl_targets.csv\")\n",
    "df"
   ]
  }
 ],
 "metadata": {
  "language_info": {
   "codemirror_mode": {
    "name": "ipython",
    "version": 3
   },
   "file_extension": ".py",
   "mimetype": "text/x-python",
   "name": "python",
   "nbconvert_exporter": "python",
   "pygments_lexer": "ipython3",
   "version": "3.6.10-final"
  },
  "orig_nbformat": 2,
  "kernelspec": {
   "name": "python3",
   "display_name": "Python 3"
  }
 },
 "nbformat": 4,
 "nbformat_minor": 2
}